{
 "cells": [
  {
   "cell_type": "code",
   "execution_count": 77,
   "metadata": {},
   "outputs": [
    {
     "name": "stdout",
     "output_type": "stream",
     "text": [
      "Number to find is 1000000000\n",
      "Original found at cycle 85\n",
      "Copy found at cycle 178\n",
      "Cycle is length 93\n",
      "Reduced number to find is 109\n"
     ]
    },
    {
     "data": {
      "text/plain": [
       "95736"
      ]
     },
     "execution_count": 77,
     "metadata": {},
     "output_type": "execute_result"
    }
   ],
   "source": [
    "import copy\n",
    "\n",
    "class Platform :\n",
    "    def __init__(self, input_file) :\n",
    "        file_data = open(input_file,'r').readlines()\n",
    "        lines = [line.strip() for line in file_data]\n",
    "        self.grid = [list(line) for line in lines]\n",
    "\n",
    "    def move_rock(self,from_coord,to_coord) :\n",
    "        self.grid[from_coord[0]][from_coord[1]] = '.'\n",
    "        self.grid[to_coord[0]][to_coord[1]] = 'O'\n",
    "    \n",
    "    def show(self) :\n",
    "        for i in range(len(self.grid)) :\n",
    "            for j in range(len(self.grid[i])):\n",
    "                print(self.grid[i][j],end = '')\n",
    "            print()\n",
    "        print()\n",
    "    \n",
    "    def get_grid(self) :\n",
    "        return self.grid\n",
    "    \n",
    "    def find_highest_space(self,coord) :\n",
    "        for i in reversed(range(0,coord[0])) :\n",
    "            if self.grid[i][coord[1]] != \".\" :\n",
    "                return (i + 1,coord[1])\n",
    "        \n",
    "        return (0,coord[1])\n",
    "\n",
    "    def tilt_north(self) :\n",
    "        for i in range(1, len(self.grid)) :\n",
    "            for j in range(len(self.grid[i])) :\n",
    "                if self.grid[i][j] == 'O' :\n",
    "                    self.move_rock((i,j),self.find_highest_space((i,j)))\n",
    "\n",
    "    def rotate_anti_clockwise(self) :\n",
    "        self.grid = [list(x) for x in zip(*self.grid[::-1])]\n",
    "\n",
    "    def tilt_cycle(self) :\n",
    "        for i in range(4) :\n",
    "            self.tilt_north()\n",
    "            self.rotate_anti_clockwise()\n",
    "\n",
    "    def calculate_load(self) :\n",
    "        load = 0\n",
    "        for i in range(len(self.grid)) :\n",
    "            for j in range(len(self.grid[i])) :\n",
    "                if self.grid[i][j] == 'O' :\n",
    "                    load += len(self.grid) - i\n",
    "        return load\n",
    "\n",
    "filename = 'input.txt'\n",
    "\n",
    "test = Platform(filename)\n",
    "number_to_find = 1000000000\n",
    "\n",
    "print(\"Number to find is\",number_to_find)\n",
    "\n",
    "cycles = 200\n",
    "states = [copy.deepcopy(test.get_grid())]\n",
    "\n",
    "for i in range(1,cycles) :\n",
    "    test.tilt_cycle()\n",
    "    \n",
    "    if copy.deepcopy(test.get_grid()) in states :\n",
    "        cycle_start = states.index(copy.deepcopy(test.get_grid()))\n",
    "        cycle_end = i\n",
    "        states.append(copy.deepcopy(test.get_grid()))\n",
    "        print(\"Original found at cycle\",states.index(copy.deepcopy(test.get_grid())))\n",
    "        print(\"Copy found at cycle\",i)\n",
    "        print(\"Cycle is length\",i-states.index(copy.deepcopy(test.get_grid())))\n",
    "        break\n",
    "    \n",
    "    states.append(copy.deepcopy(test.get_grid()))\n",
    "\n",
    "\n",
    "cycle_length = cycle_end - cycle_start\n",
    "reduced_number = (number_to_find - cycle_start) % cycle_length + cycle_start\n",
    "\n",
    "print(\"Reduced number to find is\",reduced_number)\n",
    "\n",
    "test2 = Platform(filename)\n",
    "\n",
    "for i in range(reduced_number) :\n",
    "    test2.tilt_cycle()\n",
    "\n",
    "test2.calculate_load()\n",
    "\n"
   ]
  },
  {
   "cell_type": "code",
   "execution_count": 78,
   "metadata": {},
   "outputs": [
    {
     "name": "stdout",
     "output_type": "stream",
     "text": [
      ".....#....\n",
      "....#...O#\n",
      ".....##...\n",
      "..O#......\n",
      ".....OOO#.\n",
      ".O#...O#.#\n",
      "....O#...O\n",
      ".......OOO\n",
      "#...O###.O\n",
      "#..OO#..OO\n",
      "\n"
     ]
    },
    {
     "ename": "KeyboardInterrupt",
     "evalue": "",
     "output_type": "error",
     "traceback": [
      "\u001b[1;31m---------------------------------------------------------------------------\u001b[0m",
      "\u001b[1;31mKeyboardInterrupt\u001b[0m                         Traceback (most recent call last)",
      "Cell \u001b[1;32mIn[78], line 22\u001b[0m\n\u001b[0;32m     20\u001b[0m test\u001b[38;5;241m.\u001b[39mtilt_cycle()\n\u001b[0;32m     21\u001b[0m states\u001b[38;5;241m.\u001b[39mappend(copy\u001b[38;5;241m.\u001b[39mdeepcopy(test\u001b[38;5;241m.\u001b[39mget_grid()))\n\u001b[1;32m---> 22\u001b[0m \u001b[43mtime\u001b[49m\u001b[38;5;241;43m.\u001b[39;49m\u001b[43msleep\u001b[49m\u001b[43m(\u001b[49m\u001b[38;5;241;43m1\u001b[39;49m\u001b[43m)\u001b[49m\n\u001b[0;32m     23\u001b[0m clear_output(wait\u001b[38;5;241m=\u001b[39m\u001b[38;5;28;01mTrue\u001b[39;00m)\n",
      "\u001b[1;31mKeyboardInterrupt\u001b[0m: "
     ]
    }
   ],
   "source": [
    "# Time simulation of the platform cycles\n",
    "\n",
    "import time\n",
    "from IPython.display import clear_output\n",
    "import copy\n",
    "\n",
    "def print_grid(grid) :\n",
    "    for i in range(len(grid)) :\n",
    "        for j in range(len(grid[i])):\n",
    "            print(grid[i][j],end = '')\n",
    "        print()\n",
    "    print()\n",
    "\n",
    "test = Platform('test.txt')\n",
    "cycles = 50\n",
    "states = [copy.deepcopy(test.get_grid())]\n",
    "\n",
    "for i in range(cycles) :\n",
    "    print_grid(states[i])\n",
    "    test.tilt_cycle()\n",
    "    states.append(copy.deepcopy(test.get_grid()))\n",
    "    time.sleep(1)\n",
    "    clear_output(wait=True)\n",
    "    \n",
    "    \n"
   ]
  }
 ],
 "metadata": {
  "kernelspec": {
   "display_name": "Python 3",
   "language": "python",
   "name": "python3"
  },
  "language_info": {
   "codemirror_mode": {
    "name": "ipython",
    "version": 3
   },
   "file_extension": ".py",
   "mimetype": "text/x-python",
   "name": "python",
   "nbconvert_exporter": "python",
   "pygments_lexer": "ipython3",
   "version": "3.10.2"
  }
 },
 "nbformat": 4,
 "nbformat_minor": 2
}
