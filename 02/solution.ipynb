{
 "cells": [
  {
   "cell_type": "code",
   "execution_count": 54,
   "metadata": {},
   "outputs": [],
   "source": [
    "# Part 1\n",
    "\n",
    "file_data = open('input.txt','r')\n",
    "lines = file_data.readlines()\n",
    "\n",
    "colours = {\n",
    "    \"red\" : 12,\n",
    "    \"green\" : 13,\n",
    "    \"blue\" : 14\n",
    "}\n",
    "\n",
    "def get_id(str) :\n",
    "    index1 = 5\n",
    "    index2 = str.find(':')\n",
    "    return int(str[index1:index2])\n",
    "\n",
    "def is_valid(str) :\n",
    "    valid = True\n",
    "    for colour,value in colours.items() :\n",
    "        if find_max(str, colour) > value : valid = False\n",
    "    return valid\n",
    "\n",
    "def find_max(str, colour) :\n",
    "    str = str.replace(',',' ')\n",
    "    str = str.replace(';',' ')\n",
    "    split_str = str.split()\n",
    "    maximum = 0\n",
    "    for i in range(1, len(split_str)) :\n",
    "        if (split_str[i] == colour) :\n",
    "            maximum = max(maximum, int(split_str[i-1])) \n",
    "\n",
    "    return maximum\n",
    "\n",
    "def get_sum(lines) :\n",
    "    sum = 0\n",
    "    for line in lines :\n",
    "        if is_valid(line) : sum += get_id(line)\n",
    "    return sum\n",
    "    \n",
    "\n",
    "def get_power(str) :\n",
    "    power = 1\n",
    "    for colour in colours :\n",
    "        power *= find_max(str,colour)\n",
    "    return power\n",
    "\n",
    "def get_sum_power(lines) :\n",
    "    sum = 0\n",
    "    for line in lines :\n",
    "        sum += get_power(line)\n",
    "    return sum\n"
   ]
  },
  {
   "cell_type": "code",
   "execution_count": 55,
   "metadata": {},
   "outputs": [
    {
     "name": "stdout",
     "output_type": "stream",
     "text": [
      "576\n",
      "90\n",
      "666\n"
     ]
    }
   ],
   "source": [
    "# Part 1 - tests\n",
    "\n",
    "test1 = 'Game 1: 1 red, 3 blue, 11 green; 1 blue, 5 red; 3 blue, 5 green, 13 red; 6 red, 1 blue, 4 green; 16 red, 12 green'\n",
    "test2 = 'Game 2: 1 red, 3 blue, 1 green; 1 blue, 5 red; 3 blue, 5 green, 1 red; 6 red, 1 blue, 4 green; 1 red, 1 green'\n",
    "tests = ['Game 1: 1 red, 3 blue, 11 green; 1 blue, 5 red; 3 blue, 5 green, 13 red; 6 red, 1 blue, 4 green; 16 red, 12 green','Game 2: 1 red, 3 blue, 1 green; 1 blue, 5 red; 3 blue, 5 green, 1 red; 6 red, 1 blue, 4 green; 1 red, 1 green']\n",
    "#print(test.split())\n",
    "\n",
    "\n",
    "get_sum(lines)\n",
    "print(get_power(test1))\n",
    "print(get_power(test2))\n",
    "\n",
    "print(get_sum_power(tests))"
   ]
  },
  {
   "cell_type": "code",
   "execution_count": 56,
   "metadata": {},
   "outputs": [
    {
     "data": {
      "text/plain": [
       "83105"
      ]
     },
     "execution_count": 56,
     "metadata": {},
     "output_type": "execute_result"
    },
    {
     "ename": "",
     "evalue": "",
     "output_type": "error",
     "traceback": [
      "\u001b[1;31mThe Kernel crashed while executing code in the the current cell or a previous cell. Please review the code in the cell(s) to identify a possible cause of the failure. Click <a href='https://aka.ms/vscodeJupyterKernelCrash'>here</a> for more info. View Jupyter <a href='command:jupyter.viewOutput'>log</a> for further details."
     ]
    }
   ],
   "source": [
    "# Part 2\n",
    "\n",
    "get_sum_power(lines)"
   ]
  }
 ],
 "metadata": {
  "kernelspec": {
   "display_name": "Python 3",
   "language": "python",
   "name": "python3"
  },
  "language_info": {
   "codemirror_mode": {
    "name": "ipython",
    "version": 3
   },
   "file_extension": ".py",
   "mimetype": "text/x-python",
   "name": "python",
   "nbconvert_exporter": "python",
   "pygments_lexer": "ipython3",
   "version": "3.9.13"
  }
 },
 "nbformat": 4,
 "nbformat_minor": 2
}
