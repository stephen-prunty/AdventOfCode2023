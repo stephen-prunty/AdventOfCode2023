{
 "cells": [
  {
   "cell_type": "code",
   "execution_count": 13,
   "metadata": {},
   "outputs": [],
   "source": [
    "# Functions\n",
    "\n",
    "def differentiate(values) :\n",
    "    d_values = []\n",
    "    for i in range (len(values) - 1) :\n",
    "        d_values.append(values[i+1] - values[i])\n",
    "    return d_values\n",
    "\n",
    "\n",
    "def is_list_zero(values) :\n",
    "    for i in range (len(values)) :\n",
    "        if values[i] != 0 :\n",
    "            return False\n",
    "    return True\n",
    "\n"
   ]
  },
  {
   "cell_type": "code",
   "execution_count": 36,
   "metadata": {},
   "outputs": [
    {
     "name": "stdout",
     "output_type": "stream",
     "text": [
      "988\n"
     ]
    }
   ],
   "source": [
    "# Part 1\n",
    "\n",
    "test = [[0, 3, 6, 9, 12, 15],\n",
    "[1, 3, 6, 10, 15, 21],\n",
    "[10, 13, 16, 21, 30, 45]]\n",
    "\n",
    "file_data = open('input.txt','r')\n",
    "lines = file_data.readlines()\n",
    "lines = [line.strip() for line in lines]\n",
    "lines = [line.split(' ') for line in lines]\n",
    "lines = [[int(i) for i in line] for line in lines]\n",
    "\n",
    "# Part 2 modifier:\n",
    "reversed_lines = [list(reversed(line)) for line in lines]\n",
    "\n",
    "values_to_use = reversed_lines # lines for part 1, reversed_lines for part 2\n",
    "sum = 0\n",
    "\n",
    "for values in values_to_use :\n",
    "    differentials = []\n",
    "    differentials.append(values)\n",
    "\n",
    "    while not is_list_zero(values) :\n",
    "        values = differentiate(values)\n",
    "        differentials.append(values)\n",
    "\n",
    "    for i in reversed(range(len(differentials))) :\n",
    "        if i == len(differentials) - 1 :\n",
    "            differentials[i].append(0)\n",
    "        else :\n",
    "            differentials[i].append(differentials[i][-1] + differentials[i+1][-1]) \n",
    "\n",
    "    sum += differentials[0][-1]\n",
    "\n",
    "\n",
    "print(sum)\n"
   ]
  }
 ],
 "metadata": {
  "kernelspec": {
   "display_name": "Python 3",
   "language": "python",
   "name": "python3"
  },
  "language_info": {
   "codemirror_mode": {
    "name": "ipython",
    "version": 3
   },
   "file_extension": ".py",
   "mimetype": "text/x-python",
   "name": "python",
   "nbconvert_exporter": "python",
   "pygments_lexer": "ipython3",
   "version": "3.10.2"
  }
 },
 "nbformat": 4,
 "nbformat_minor": 2
}
