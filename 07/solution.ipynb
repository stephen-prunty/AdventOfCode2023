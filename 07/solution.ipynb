{
 "cells": [
  {
   "cell_type": "code",
   "execution_count": 48,
   "metadata": {},
   "outputs": [],
   "source": [
    "# Sort all the hands by bubble sort\n",
    "# method for evaluating score (0 = high card, 1 = pair, etc)\n",
    "# method for sorting\n",
    "\n",
    "# part 2: joker\n",
    "# J now has value of 1, but can be used as any card\n",
    "\n",
    "def get_card_value(card) :\n",
    "    if card[0] == 'T' :\n",
    "        return 10\n",
    "    elif card[0] == 'J' :\n",
    "        return 1\n",
    "    elif card[0] == 'Q' :\n",
    "        return 12\n",
    "    elif card[0] == 'K' :\n",
    "        return 13\n",
    "    elif card[0] == 'A' :\n",
    "        return 14\n",
    "    else :\n",
    "        return int(card[0])\n",
    "\n",
    "\n",
    "def evaluate(hand) :\n",
    "    card_values = [get_card_value(card) for card in hand]\n",
    "    card_counts = [card_values.count(card) for card in set(card_values) if card != 1]\n",
    "    joker_count = card_values.count(1)\n",
    "\n",
    "    if joker_count == 5 :\n",
    "        return 6\n",
    "\n",
    "    card_counts[card_counts.index(max(card_counts))] += joker_count\n",
    "\n",
    "    if 5 in card_counts :\n",
    "        return 6\n",
    "    elif 4 in card_counts :\n",
    "        return 5\n",
    "    elif 3 in card_counts and 2 in card_counts :\n",
    "        return 4\n",
    "    elif 3 in card_counts :\n",
    "        return 3\n",
    "    elif card_counts.count(2) == 2 :\n",
    "        return 2\n",
    "    elif 2 in card_counts :\n",
    "        return 1\n",
    "    else :\n",
    "        return 0\n",
    "    \n",
    "def greater_than(hand1, hand2) :\n",
    "    if evaluate(hand1) != evaluate(hand2) :\n",
    "        return evaluate(hand1) > evaluate(hand2)\n",
    "    else :\n",
    "        # evaluate the tiebreaker\n",
    "        card_values1 = [get_card_value(card) for card in hand1]\n",
    "        card_values2 = [get_card_value(card) for card in hand2]\n",
    "\n",
    "        for i in range(5) :\n",
    "            if card_values1[i] != card_values2[i] :\n",
    "                return card_values1[i] > card_values2[i]\n",
    "        return True\n",
    "\n",
    "    \n",
    "def sort_hands(hands) :\n",
    "    \n",
    "    for i in range(len(hands)) :\n",
    "        for j in range(len(hands) - 1) :\n",
    "            if greater_than(hands[j][0], hands[j+1][0]) :\n",
    "                hands[j], hands[j+1] = hands[j+1], hands[j]\n",
    "    return hands\n",
    "\n",
    "\n",
    "def get_winnings(sorted_hands) :\n",
    "    sum = 0\n",
    "\n",
    "    for i in range(len(sorted_hands)) :\n",
    "        sum += sorted_hands[i][1] * (i+1)\n",
    "    \n",
    "    return sum\n"
   ]
  },
  {
   "cell_type": "code",
   "execution_count": 49,
   "metadata": {},
   "outputs": [
    {
     "data": {
      "text/plain": [
       "5905"
      ]
     },
     "execution_count": 49,
     "metadata": {},
     "output_type": "execute_result"
    }
   ],
   "source": [
    "# Test\n",
    "test = [['32T3K', 765],\n",
    "['T55J5', 684],\n",
    "['KK677', 28],\n",
    "['KTJJT', 220],\n",
    "['QQQJA', 483]]\n",
    "\n",
    "\n",
    "    \n",
    "get_winnings(sort_hands(test))\n",
    "\n"
   ]
  },
  {
   "cell_type": "code",
   "execution_count": 50,
   "metadata": {},
   "outputs": [
    {
     "data": {
      "text/plain": [
       "245576185"
      ]
     },
     "execution_count": 50,
     "metadata": {},
     "output_type": "execute_result"
    }
   ],
   "source": [
    "# Part 1\n",
    "\n",
    "file_data = open('input.txt','r')\n",
    "lines = file_data.readlines()\n",
    "\n",
    "\n",
    "for i in range(len(lines)):\n",
    "    lines[i] = lines[i].split(' ')\n",
    "    lines[i][1] = int(lines[i][1])\n",
    "\n",
    "get_winnings(sort_hands(lines))"
   ]
  },
  {
   "cell_type": "code",
   "execution_count": null,
   "metadata": {},
   "outputs": [],
   "source": []
  }
 ],
 "metadata": {
  "kernelspec": {
   "display_name": "Python 3",
   "language": "python",
   "name": "python3"
  },
  "language_info": {
   "codemirror_mode": {
    "name": "ipython",
    "version": 3
   },
   "file_extension": ".py",
   "mimetype": "text/x-python",
   "name": "python",
   "nbconvert_exporter": "python",
   "pygments_lexer": "ipython3",
   "version": "3.10.2"
  }
 },
 "nbformat": 4,
 "nbformat_minor": 2
}
