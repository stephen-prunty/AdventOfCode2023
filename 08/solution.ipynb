{
 "cells": [
  {
   "cell_type": "code",
   "execution_count": 32,
   "metadata": {},
   "outputs": [
    {
     "data": {
      "text/plain": [
       "16271"
      ]
     },
     "execution_count": 32,
     "metadata": {},
     "output_type": "execute_result"
    }
   ],
   "source": [
    "def read_from_file(filename='input.txt'):\n",
    "    file_data = open(filename,'r')\n",
    "    lines = file_data.readlines()\n",
    "\n",
    "    path = lines[0].replace('\\n','')\n",
    "    graph = {}\n",
    "    \n",
    "    for i in range(2,len(lines)) :\n",
    "        line = lines[i].replace(',','')\n",
    "        line = line.replace('=','')\n",
    "        line = line.replace('(','')\n",
    "        line = line.replace(')','')\n",
    "        line = line.split()\n",
    "        graph[line[0]] = (line[1],line[2])\n",
    "\n",
    "    return path, graph\n",
    "\n",
    "   \n",
    "def traverse_path(path, graph, start_node) :\n",
    "    node = start_node\n",
    "\n",
    "    for direction in path :\n",
    "        if direction == 'L' :\n",
    "            node = graph[node][0]\n",
    "        elif direction == 'R' :\n",
    "            node = graph[node][1]\n",
    "    \n",
    "    return node\n",
    "\n",
    "\n",
    "\n",
    "\n",
    "path, graph = read_from_file('input.txt') \n",
    "\n",
    "node = 'AAA'\n",
    "path_length = 0\n",
    "\n",
    "while node != 'ZZZ' :\n",
    "    node = traverse_path(path,graph,node)\n",
    "    path_length += len(path)\n",
    "\n",
    "path_length\n",
    "\n"
   ]
  },
  {
   "cell_type": "code",
   "execution_count": 54,
   "metadata": {},
   "outputs": [
    {
     "name": "stdout",
     "output_type": "stream",
     "text": [
      "['VCA', 'FRA', 'SNA', 'HNA', 'AAA', 'RPA']\n"
     ]
    },
    {
     "data": {
      "text/plain": [
       "14265111103729"
      ]
     },
     "execution_count": 54,
     "metadata": {},
     "output_type": "execute_result"
    }
   ],
   "source": [
    "# Part 2\n",
    "\n",
    "import math\n",
    "\n",
    "path, graph = read_from_file('input.txt')\n",
    "\n",
    "starting_nodes = []\n",
    "\n",
    "for node in graph :\n",
    "    if node[2] == 'A' :\n",
    "        starting_nodes.append(node)\n",
    "\n",
    "print(starting_nodes)\n",
    "\n",
    "path_lengths = [0 for i in range(len(starting_nodes))]\n",
    "\n",
    "def is_end_node(node) :\n",
    "    return node[2] == 'Z'\n",
    "\n",
    "for start_node in starting_nodes :\n",
    "    \n",
    "    node = start_node\n",
    "    path_length = 0\n",
    "\n",
    "    while not is_end_node(node) :\n",
    "        node = traverse_path(path,graph,node)\n",
    "        path_length += len(path)\n",
    "    \n",
    "    path_lengths[starting_nodes.index(start_node)] = path_length\n",
    "\n",
    "path_lengths\n",
    "\n",
    "math.lcm(*path_lengths)"
   ]
  }
 ],
 "metadata": {
  "kernelspec": {
   "display_name": "Python 3",
   "language": "python",
   "name": "python3"
  },
  "language_info": {
   "codemirror_mode": {
    "name": "ipython",
    "version": 3
   },
   "file_extension": ".py",
   "mimetype": "text/x-python",
   "name": "python",
   "nbconvert_exporter": "python",
   "pygments_lexer": "ipython3",
   "version": "3.12.0"
  }
 },
 "nbformat": 4,
 "nbformat_minor": 2
}
