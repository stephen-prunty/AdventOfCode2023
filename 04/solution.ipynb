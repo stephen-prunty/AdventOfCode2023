{
 "cells": [
  {
   "cell_type": "code",
   "execution_count": 1,
   "metadata": {},
   "outputs": [],
   "source": [
    "# Part 1\n",
    "\n",
    "file_data = open('input.txt','r')\n",
    "lines = file_data.readlines()\n"
   ]
  },
  {
   "cell_type": "code",
   "execution_count": 32,
   "metadata": {},
   "outputs": [
    {
     "name": "stdout",
     "output_type": "stream",
     "text": [
      "Test: 13\n",
      "Actual: 26443\n"
     ]
    }
   ],
   "source": [
    "# Part 1 Tests\n",
    "\n",
    "file_data = open('input.txt','r')\n",
    "lines = file_data.readlines()\n",
    "\n",
    "test = ['Card 1: 41 48 83 86 17 | 83 86  6 31 17  9 48 53',\n",
    "'Card 2: 13 32 20 16 61 | 61 30 68 82 17 32 24 19',\n",
    "'Card 3:  1 21 53 59 44 | 69 82 63 72 16 21 14  1',\n",
    "'Card 4: 41 92 73 84 69 | 59 84 76 51 58  5 54 83',\n",
    "'Card 5: 87 83 26 28 32 | 88 30 70 12 93 22 82 36',\n",
    "'Card 6: 31 18 13 56 72 | 74 77 10 23 35 67 36 11']\n",
    "\n",
    "\n",
    "test2 = ['Card  57: 21 43 41 18 56 70 42  1  2 23 | 53 69 99 79 95 15 94 48 58 73 87 12 13 68 11 16 96 64 78 59 71 75 54  7 98']\n",
    "\n",
    "def getWinningNumbers(line) :\n",
    "    start_index = line.find(':') + 2\n",
    "    end_index = line.find('|') - 1\n",
    "    str = line[start_index:end_index].split()\n",
    "    return [int(x) for x in str]\n",
    "    \n",
    "def getNumbersYouHave(line) :\n",
    "    start_index = line.find('|') + 2\n",
    "    str = line[start_index:].split()\n",
    "    return [int(x) for x in str]\n",
    "\n",
    "def intersection(lst1, lst2):\n",
    "    lst3 = [value for value in lst1 if value in lst2]\n",
    "    return lst3\n",
    " \n",
    "def get_points(lst) :\n",
    "    if len(lst) == 0 :\n",
    "        return 0\n",
    "    else:\n",
    "        return pow(2,(len(lst) - 1))\n",
    "\n",
    "def count_card_points(cards) :\n",
    "    sum = 0\n",
    "    for card in cards :\n",
    "        sum += get_points(intersection(getWinningNumbers(card),getNumbersYouHave(card)))\n",
    "    return sum\n",
    "\n",
    "\n",
    "\n",
    "# Part 1\n",
    "\n",
    "print(\"Test: \" + str(count_card_points(test)))\n",
    "print(\"Actual: \" + str(count_card_points(lines)))\n",
    "\n",
    "\n",
    "\n",
    "# print(getWinningNumbers(test[2]))\n",
    "# print(getNumbersYouHave(test[2]))\n",
    "# print(get_points(intersection(getWinningNumbers(test[2]),getNumbersYouHave(test[2]))))\n",
    "\n",
    "# class Card?\n",
    "\n",
    "# functions?\n",
    "\n",
    "# getWinningNumbers\n",
    "# get"
   ]
  },
  {
   "cell_type": "code",
   "execution_count": 64,
   "metadata": {},
   "outputs": [
    {
     "data": {
      "text/plain": [
       "6284877"
      ]
     },
     "execution_count": 64,
     "metadata": {},
     "output_type": "execute_result"
    }
   ],
   "source": [
    "# Part 2\n",
    "\n",
    "test = ['Card 1: 41 48 83 86 17 | 83 86  6 31 17  9 48 53',\n",
    "'Card 2: 13 32 20 16 61 | 61 30 68 82 17 32 24 19',\n",
    "'Card 3:  1 21 53 59 44 | 69 82 63 72 16 21 14  1',\n",
    "'Card 4: 41 92 73 84 69 | 59 84 76 51 58  5 54 83',\n",
    "'Card 5: 87 83 26 28 32 | 88 30 70 12 93 22 82 36',\n",
    "'Card 6: 31 18 13 56 72 | 74 77 10 23 35 67 36 11']\n",
    "\n",
    "\n",
    "def create_instances(cards) :\n",
    "    return [1 for x in range(len(cards))]\n",
    "\n",
    "def get_cards_wins(card) :\n",
    "    return len(intersection(getWinningNumbers(card),getNumbersYouHave(card)))\n",
    "\n",
    "def process_cards(cards) :\n",
    "    instances = create_instances(cards)\n",
    "\n",
    "    for card in cards :\n",
    "        card_index = cards.index(card)\n",
    "        # calculate score\n",
    "        score = get_cards_wins(card)\n",
    "        max_index = min(len(cards) - 1, card_index + score)\n",
    "        # update instances\n",
    "        for i in range(card_index,max_index) :\n",
    "            instances[i + 1] += instances[card_index]\n",
    "    \n",
    "    return instances\n",
    "\n",
    "\n",
    "sum(process_cards(lines))"
   ]
  }
 ],
 "metadata": {
  "kernelspec": {
   "display_name": "Python 3",
   "language": "python",
   "name": "python3"
  },
  "language_info": {
   "codemirror_mode": {
    "name": "ipython",
    "version": 3
   },
   "file_extension": ".py",
   "mimetype": "text/x-python",
   "name": "python",
   "nbconvert_exporter": "python",
   "pygments_lexer": "ipython3",
   "version": "3.9.13"
  }
 },
 "nbformat": 4,
 "nbformat_minor": 2
}
