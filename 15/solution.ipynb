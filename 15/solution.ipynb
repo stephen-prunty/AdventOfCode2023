{
 "cells": [
  {
   "cell_type": "code",
   "execution_count": 10,
   "metadata": {},
   "outputs": [
    {
     "data": {
      "text/plain": [
       "30"
      ]
     },
     "execution_count": 10,
     "metadata": {},
     "output_type": "execute_result"
    }
   ],
   "source": [
    "current_value = 0\n",
    "\n",
    "for letter in 'rn=1':\n",
    "    current_value += ord(letter)\n",
    "    current_value *= 17\n",
    "    current_value %= 256\n",
    "\n",
    "current_value"
   ]
  },
  {
   "cell_type": "code",
   "execution_count": 26,
   "metadata": {},
   "outputs": [
    {
     "data": {
      "text/plain": [
       "514281"
      ]
     },
     "execution_count": 26,
     "metadata": {},
     "output_type": "execute_result"
    }
   ],
   "source": [
    "\n",
    "def data_parser(input_file) :\n",
    "    file_data = open(input_file,'r').read()\n",
    "    return file_data.split(',')\n",
    "\n",
    "def hash_algorithm(string):\n",
    "    current_value = 0\n",
    "    for letter in string:\n",
    "        current_value += ord(letter)\n",
    "        current_value *= 17\n",
    "        current_value %= 256\n",
    "    return current_value\n",
    "\n",
    "\n",
    "def hash_file(input_file):\n",
    "    file_data = data_parser(input_file)\n",
    "    current_value = 0\n",
    "    for line in file_data:\n",
    "        current_value += hash_algorithm(line)\n",
    "    return current_value\n",
    "\n",
    "file = 'input.txt'\n",
    "hash_file(file)\n"
   ]
  }
 ],
 "metadata": {
  "kernelspec": {
   "display_name": "Python 3",
   "language": "python",
   "name": "python3"
  },
  "language_info": {
   "codemirror_mode": {
    "name": "ipython",
    "version": 3
   },
   "file_extension": ".py",
   "mimetype": "text/x-python",
   "name": "python",
   "nbconvert_exporter": "python",
   "pygments_lexer": "ipython3",
   "version": "3.10.2"
  }
 },
 "nbformat": 4,
 "nbformat_minor": 2
}
