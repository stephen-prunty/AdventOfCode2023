{
 "cells": [
  {
   "cell_type": "code",
   "execution_count": null,
   "metadata": {},
   "outputs": [],
   "source": []
  },
  {
   "cell_type": "code",
   "execution_count": 20,
   "metadata": {},
   "outputs": [
    {
     "data": {
      "text/plain": [
       "244199"
      ]
     },
     "execution_count": 20,
     "metadata": {},
     "output_type": "execute_result"
    }
   ],
   "source": [
    "# Functions\n",
    "def data_parser(input_file) :\n",
    "    return open(input_file,'r').read().split(',')\n",
    "\n",
    "def classify(line) :\n",
    "    if line[-1] != \"-\" :\n",
    "        return \"add\"\n",
    "    else :\n",
    "        return \"remove\"\n",
    "\n",
    "def hash_algorithm(string):\n",
    "    current_value = 0\n",
    "    for letter in string:\n",
    "        current_value += ord(letter)\n",
    "        current_value *= 17\n",
    "        current_value %= 256\n",
    "    return current_value\n",
    "\n",
    "def hash_file(input_file):\n",
    "    file_data = data_parser(input_file)\n",
    "    current_value = 0\n",
    "    for line in file_data:\n",
    "        current_value += hash_algorithm(line)\n",
    "    return current_value\n",
    "\n",
    "def get_box_no(str) :\n",
    "    return hash_algorithm(get_lens_name(str))\n",
    "\n",
    "def is_lens_in_box(lens_name,box) :\n",
    "    for i in range(len(box)) :\n",
    "        if get_lens_name(box[i]) == lens_name :\n",
    "            return i\n",
    "    return -1\n",
    "\n",
    "def get_lens_name(str) :\n",
    "    equals_pos = str.find(\"=\")\n",
    "    return str[:equals_pos]\n",
    "\n",
    "def remove_from_box(lens,box) :\n",
    "    for i in range(len(box)) :\n",
    "        if get_lens_name(box[i]) == lens :\n",
    "            del box[i]\n",
    "            return\n",
    "        \n",
    "def lens_focusing_power(lens) :\n",
    "    return int(lens[-1])\n",
    "\n",
    "\n",
    "def boxes_focusing_power(boxes) :\n",
    "    sum = 0\n",
    "    for i in range(len(boxes)) :\n",
    "        for j in range(len(boxes[i])) :\n",
    "            sum += (i+1)*(j+1)*lens_focusing_power(boxes[i][j])\n",
    "    return sum\n",
    "\n",
    "######################### main function ############################################\n",
    "\n",
    "instructions = data_parser('input.txt')\n",
    "\n",
    "boxes = [ [] for i in range(256) ]\n",
    "\n",
    "for instruction in instructions :\n",
    "    if classify(instruction) == \"add\" :\n",
    "        index = is_lens_in_box(get_lens_name(instruction),boxes[get_box_no(instruction)])\n",
    "        if index == -1:\n",
    "            boxes[get_box_no(instruction)].append(instruction)\n",
    "        else : \n",
    "            boxes[get_box_no(instruction)][index] = instruction\n",
    "            \n",
    "    else :\n",
    "        remove_from_box(get_lens_name(instruction),boxes[get_box_no(instruction)])\n",
    "\n",
    "boxes_focusing_power(boxes)"
   ]
  },
  {
   "cell_type": "code",
   "execution_count": 16,
   "metadata": {},
   "outputs": [
    {
     "data": {
      "text/plain": [
       "'sa'"
      ]
     },
     "execution_count": 16,
     "metadata": {},
     "output_type": "execute_result"
    }
   ],
   "source": [
    "test_str = 'sa=23'\n",
    "\n",
    "get_lens(test_str)"
   ]
  }
 ],
 "metadata": {
  "kernelspec": {
   "display_name": "Python 3",
   "language": "python",
   "name": "python3"
  },
  "language_info": {
   "codemirror_mode": {
    "name": "ipython",
    "version": 3
   },
   "file_extension": ".py",
   "mimetype": "text/x-python",
   "name": "python",
   "nbconvert_exporter": "python",
   "pygments_lexer": "ipython3",
   "version": "3.12.0"
  }
 },
 "nbformat": 4,
 "nbformat_minor": 2
}
