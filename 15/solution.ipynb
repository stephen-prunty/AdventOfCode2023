{
 "cells": [
  {
   "cell_type": "code",
   "execution_count": 29,
   "metadata": {},
   "outputs": [
    {
     "data": {
      "text/plain": [
       "514281"
      ]
     },
     "execution_count": 29,
     "metadata": {},
     "output_type": "execute_result"
    }
   ],
   "source": [
    "\n",
    "def data_parser(input_file) :\n",
    "    return open(input_file,'r').read().split(',')\n",
    "\n",
    "def hash_algorithm(string):\n",
    "    current_value = 0\n",
    "    for letter in string:\n",
    "        current_value += ord(letter)\n",
    "        current_value *= 17\n",
    "        current_value %= 256\n",
    "    return current_value\n",
    "\n",
    "\n",
    "def hash_file(input_file):\n",
    "    file_data = data_parser(input_file)\n",
    "    current_value = 0\n",
    "    for line in file_data:\n",
    "        current_value += hash_algorithm(line)\n",
    "    return current_value\n",
    "\n",
    "\n",
    "hash_file('input.txt')\n"
   ]
  },
  {
   "cell_type": "code",
   "execution_count": 32,
   "metadata": {},
   "outputs": [
    {
     "data": {
      "text/plain": [
       "1"
      ]
     },
     "execution_count": 32,
     "metadata": {},
     "output_type": "execute_result"
    }
   ],
   "source": [
    "hash_algorithm('qp')"
   ]
  }
 ],
 "metadata": {
  "kernelspec": {
   "display_name": "Python 3",
   "language": "python",
   "name": "python3"
  },
  "language_info": {
   "codemirror_mode": {
    "name": "ipython",
    "version": 3
   },
   "file_extension": ".py",
   "mimetype": "text/x-python",
   "name": "python",
   "nbconvert_exporter": "python",
   "pygments_lexer": "ipython3",
   "version": "3.10.2"
  }
 },
 "nbformat": 4,
 "nbformat_minor": 2
}
