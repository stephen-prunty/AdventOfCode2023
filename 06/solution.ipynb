{
 "cells": [
  {
   "cell_type": "code",
   "execution_count": 24,
   "metadata": {},
   "outputs": [
    {
     "name": "stdout",
     "output_type": "stream",
     "text": [
      "71503\n"
     ]
    }
   ],
   "source": [
    "times = [61677571]\n",
    "dists = [430103613071150]\n",
    "\n",
    "time_test = [71530]\n",
    "dists_test = [940200]\n",
    "\n",
    "def no_of_ways(time,record) :\n",
    "\n",
    "    count = 0\n",
    "\n",
    "    for t in range(time+1) :\n",
    "        \n",
    "        #print(f\"Held for {t} seconds, travelled {calc_dist(t,time)} time.\")\n",
    "        if calc_dist(t,time) > record :\n",
    "            count += 1\n",
    "            #print(\"     and beat the record.\")\n",
    "            \n",
    "    \n",
    "    return count\n",
    "\n",
    "\n",
    "def calc_dist(time_held,time) :\n",
    "    return  time_held * (time-time_held)\n",
    "\n",
    "test_product = 1\n",
    "\n",
    "for i in range(1) :\n",
    "    test_product *= no_of_ways(time_test[i],dists_test[i])\n",
    "\n",
    "print(test_product)\n",
    "\n",
    "# product = 1 \n",
    "\n",
    "# for i in range(1) :\n",
    "#     product *= no_of_ways(times[i],dists[i])\n",
    "\n",
    "# for i in range(7) :\n",
    "#     print(calc_dist(i,7))\n",
    "\n",
    "# print(no_of_ways(7,9))\n",
    "\n",
    "# print()\n",
    "# print(no_of_ways(time_test[0],dists_test[0]))\n",
    "\n",
    "# print(product)"
   ]
  },
  {
   "cell_type": "code",
   "execution_count": 29,
   "metadata": {},
   "outputs": [
    {
     "name": "stdout",
     "output_type": "stream",
     "text": [
      "8014959\n",
      "430103589365254\n",
      "430103635012908\n"
     ]
    },
    {
     "data": {
      "text/plain": [
       "45647654"
      ]
     },
     "execution_count": 29,
     "metadata": {},
     "output_type": "execute_result"
    }
   ],
   "source": [
    "total_time = 61677571\n",
    "record_dist = 430103613071150\n",
    "\n",
    "time_ten_thousand = 0\n",
    "time_real = 0\n",
    "\n",
    "# find the lowest time to the nearest 10,000\n",
    "for i in range(1,10000) :\n",
    "\n",
    "    if calc_dist(i * 10000,total_time) > record_dist :\n",
    "        time_ten_thousand = i * 10000\n",
    "        break\n",
    "\n",
    "\n",
    "# find the lowest time\n",
    "for j in range(time_ten_thousand-10000,time_ten_thousand) :\n",
    "\n",
    "    if calc_dist(j,total_time) > record_dist :\n",
    "        time_real = j\n",
    "        break\n",
    "\n",
    "ways_to_beat = total_time + 1 - 2*(time_real)\n",
    "\n",
    "ways_to_beat"
   ]
  }
 ],
 "metadata": {
  "kernelspec": {
   "display_name": "Python 3",
   "language": "python",
   "name": "python3"
  },
  "language_info": {
   "codemirror_mode": {
    "name": "ipython",
    "version": 3
   },
   "file_extension": ".py",
   "mimetype": "text/x-python",
   "name": "python",
   "nbconvert_exporter": "python",
   "pygments_lexer": "ipython3",
   "version": "3.9.13"
  }
 },
 "nbformat": 4,
 "nbformat_minor": 2
}
