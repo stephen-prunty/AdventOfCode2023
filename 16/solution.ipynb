{
 "cells": [
  {
   "cell_type": "code",
   "execution_count": 3,
   "metadata": {},
   "outputs": [
    {
     "data": {
      "text/plain": [
       "True"
      ]
     },
     "execution_count": 3,
     "metadata": {},
     "output_type": "execute_result"
    }
   ],
   "source": [
    "class Vector :\n",
    "    def __init__(self,x,y,direction) :\n",
    "        self.x = x\n",
    "        self.y = y\n",
    "        self.direction = direction\n",
    "\n",
    "    def equals(self,other) :\n",
    "        return self.x == other.x and self.y == other.y and self.direction == other.direction\n",
    "\n",
    "class Contraption :\n",
    "    def __init__(self,input_file,start_vector) :\n",
    "        file_data = open(input_file,'r').readlines()\n",
    "        lines = [line.strip() for line in file_data]\n",
    "        self.grid = [list(line) for line in lines]\n",
    "        self.start_vector = start_vector\n",
    "        self.energised_grid = [[False for x in range(len(self.grid[0]))] for y in range(len(self.grid))]\n",
    "\n",
    "\n",
    "    def follow_beam(self,start_vector) :\n",
    "        pass\n",
    "\n",
    "\n",
    "\n"
   ]
  }
 ],
 "metadata": {
  "kernelspec": {
   "display_name": "Python 3",
   "language": "python",
   "name": "python3"
  },
  "language_info": {
   "codemirror_mode": {
    "name": "ipython",
    "version": 3
   },
   "file_extension": ".py",
   "mimetype": "text/x-python",
   "name": "python",
   "nbconvert_exporter": "python",
   "pygments_lexer": "ipython3",
   "version": "3.10.2"
  }
 },
 "nbformat": 4,
 "nbformat_minor": 2
}
