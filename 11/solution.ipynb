{
 "cells": [
  {
   "cell_type": "code",
   "execution_count": 94,
   "metadata": {},
   "outputs": [],
   "source": [
    "# Classes / Functions:\n",
    "\n",
    "# Part 1:\n",
    "\n",
    "class image() :\n",
    "    def __init__(self,filename) :\n",
    "        file_data = open(filename,'r').readlines()\n",
    "        lines = [line.strip() for line in file_data]\n",
    "        self.grid = [list(line) for line in lines]\n",
    "        empty_rows = []\n",
    "        for row_no in range(len(self.grid)) :\n",
    "            if '#' not in self.grid[row_no] :\n",
    "                empty_rows.append(row_no)\n",
    "        self.empty_rows = empty_rows\n",
    "        empty_cols = []\n",
    "        for col_no in range(len(self.grid[0])) :\n",
    "            if '#' not in self.get_col(col_no) :\n",
    "                empty_cols.append(col_no)\n",
    "        self.empty_cols = empty_cols\n",
    "\n",
    "    def print(self) :\n",
    "        for line in self.grid :\n",
    "            print(''.join(line))\n",
    "        print()\n",
    "    \n",
    "    def insert_row(self,row_no) :\n",
    "        self.grid.insert(row_no,['.' for i in range(len(self.grid[0]))])\n",
    "\n",
    "    def insert_col(self,col_no) :\n",
    "        for row in self.grid :\n",
    "            row.insert(col_no,'.')\n",
    "\n",
    "    def get_row(self,row_no):\n",
    "        return self.grid[row_no]\n",
    "\n",
    "    def get_col(self,col_no):\n",
    "        return [row[col_no] for row in self.grid]\n",
    "    \n",
    "    def expand(self) :\n",
    "        row_no = 0\n",
    "        while row_no != len(self.grid) :\n",
    "            if '#' not in self.get_row(row_no) :\n",
    "                self.insert_row(row_no)\n",
    "                row_no += 1\n",
    "            row_no += 1 \n",
    "        \n",
    "        col_no = 0\n",
    "        while col_no != len(self.grid[0]) :\n",
    "            if '#' not in self.get_col(col_no) :\n",
    "                self.insert_col(col_no)\n",
    "                col_no += 1\n",
    "            col_no += 1\n",
    "    \n",
    "    def find_galaxies(self) :\n",
    "        galaxies = []\n",
    "        for row_no in range(len(self.grid)) :\n",
    "            for col_no in range(len(self.grid[0])) :\n",
    "                if self.grid[row_no][col_no] == '#' :\n",
    "                    galaxies.append((row_no,col_no))\n",
    "        return galaxies\n",
    "    \n",
    "    def distance(self,galaxy1,galaxy2) :\n",
    "        return abs(galaxy1[0]-galaxy2[0]) + abs(galaxy1[1]-galaxy2[1])\n",
    "    \n",
    "    def empty_rows_and_cols_crossed(self,galaxy1,galaxy2) :\n",
    "        rows_crossed = len([row_no for row_no in self.empty_rows if row_no > min(galaxy1[0],galaxy2[0]) and row_no < max(galaxy1[0],galaxy2[0])])\n",
    "        cols_crossed = len([col_no for col_no in self.empty_cols if col_no > min(galaxy1[1],galaxy2[1]) and col_no < max(galaxy1[1],galaxy2[1])])\n",
    "        return rows_crossed + cols_crossed\n",
    "    \n",
    "\n",
    "    def distance2(self,galaxy1,galaxy2, exp_mod) :\n",
    "        return self.distance(galaxy1,galaxy2) + (exp_mod - 1)*self.empty_rows_and_cols_crossed(galaxy1,galaxy2)\n",
    "    \n",
    "    def find_distance_sum(self) :\n",
    "        galaxies = self.find_galaxies()\n",
    "        sum = 0\n",
    "        i = 0\n",
    "        for galaxy1 in galaxies :\n",
    "            i += 1\n",
    "            for galaxy2 in galaxies[i:] :\n",
    "                sum += self.distance(galaxy1,galaxy2)\n",
    "        return sum\n",
    "    \n",
    "    def find_expanded_distance_sum(self, expansion_modifier) :\n",
    "        galaxies = self.find_galaxies()\n",
    "        sum = 0\n",
    "        i = 0\n",
    "        for galaxy1 in galaxies :\n",
    "            i += 1\n",
    "            for galaxy2 in galaxies[i:] :\n",
    "                sum += self.distance2(galaxy1,galaxy2,expansion_modifier)\n",
    "        return sum\n",
    "    "
   ]
  },
  {
   "cell_type": "code",
   "execution_count": 93,
   "metadata": {},
   "outputs": [
    {
     "data": {
      "text/plain": [
       "731244261352"
      ]
     },
     "execution_count": 93,
     "metadata": {},
     "output_type": "execute_result"
    }
   ],
   "source": [
    "test = image('input.txt')\n",
    "\n",
    "test.find_expanded_distance_sum(1000000)\n"
   ]
  }
 ],
 "metadata": {
  "kernelspec": {
   "display_name": "Python 3",
   "language": "python",
   "name": "python3"
  },
  "language_info": {
   "codemirror_mode": {
    "name": "ipython",
    "version": 3
   },
   "file_extension": ".py",
   "mimetype": "text/x-python",
   "name": "python",
   "nbconvert_exporter": "python",
   "pygments_lexer": "ipython3",
   "version": "3.12.0"
  }
 },
 "nbformat": 4,
 "nbformat_minor": 2
}
